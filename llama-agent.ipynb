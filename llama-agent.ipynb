{
 "cells": [
  {
   "cell_type": "code",
   "execution_count": 1,
   "metadata": {},
   "outputs": [],
   "source": [
    "from langchain.llms import LlamaCpp\n",
    "from langchain import PromptTemplate, LLMChain\n",
    "from langchain.callbacks.manager import CallbackManager\n",
    "from langchain.callbacks.streaming_stdout import StreamingStdOutCallbackHandler"
   ]
  },
  {
   "cell_type": "code",
   "execution_count": 2,
   "metadata": {},
   "outputs": [],
   "source": [
    "template = \"\"\"Question: {question}\n",
    "\n",
    "Answer: Let's think step by step.\n",
    "\"\"\"\n",
    "\n",
    "prompt = PromptTemplate(template=template, input_variables=[\"question\"])"
   ]
  },
  {
   "cell_type": "code",
   "execution_count": 3,
   "metadata": {},
   "outputs": [
    {
     "name": "stderr",
     "output_type": "stream",
     "text": [
      "llama.cpp: loading model from /home/data/datasets/wizard-vicuna/Wizard-Vicuna-13B-Uncensored.ggmlv3.q8_0.bin\n",
      "llama_model_load_internal: format     = ggjt v3 (latest)\n",
      "llama_model_load_internal: n_vocab    = 32000\n",
      "llama_model_load_internal: n_ctx      = 512\n",
      "llama_model_load_internal: n_embd     = 5120\n",
      "llama_model_load_internal: n_mult     = 256\n",
      "llama_model_load_internal: n_head     = 40\n",
      "llama_model_load_internal: n_layer    = 40\n",
      "llama_model_load_internal: n_rot      = 128\n",
      "llama_model_load_internal: ftype      = 7 (mostly Q8_0)\n",
      "llama_model_load_internal: n_ff       = 13824\n",
      "llama_model_load_internal: n_parts    = 1\n",
      "llama_model_load_internal: model size = 13B\n",
      "llama_model_load_internal: ggml ctx size =    0.09 MB\n",
      "llama_model_load_internal: mem required  = 15237.95 MB (+ 1608.00 MB per state)\n",
      ".\n",
      "llama_init_from_file: kv self size  =  400.00 MB\n",
      "AVX = 1 | AVX2 = 1 | AVX512 = 0 | AVX512_VBMI = 0 | AVX512_VNNI = 0 | FMA = 1 | NEON = 0 | ARM_FMA = 0 | F16C = 1 | FP16_VA = 0 | WASM_SIMD = 0 | BLAS = 0 | SSE3 = 1 | VSX = 0 | \n"
     ]
    }
   ],
   "source": [
    "callback_manager = CallbackManager([StreamingStdOutCallbackHandler()])\n",
    "\n",
    "llm = LlamaCpp(\n",
    "    model_path=\"/home/data/datasets/wizard-vicuna/Wizard-Vicuna-13B-Uncensored.ggmlv3.q8_0.bin\",\n",
    "    callback_manager=callback_manager,\n",
    "    verbose=True,\n",
    ")"
   ]
  },
  {
   "cell_type": "code",
   "execution_count": 4,
   "metadata": {},
   "outputs": [],
   "source": [
    "llm_chain = LLMChain(llm=llm, prompt=prompt)"
   ]
  },
  {
   "cell_type": "code",
   "execution_count": 5,
   "metadata": {},
   "outputs": [
    {
     "name": "stdout",
     "output_type": "stream",
     "text": [
      "The first thing we have to do is to understand what \"life\" means. According to the dictionary, life is \"the condition that distinguishes animals and plants from inorganic matter, including the capacity for growth, reproduction, functional activity, and continual change preceding death.\" So, if we want to know the meaning of life, we have to look at its characteristics:\n",
      "1) Growth: living organisms grow throughout their lives. They start small and then become bigger and more complex. This process is called development.\n",
      "2) Reproduction: all living organisms reproduce in order to ensure the continuity of their species. Some do it sexually, others asexually.\n",
      "3) Functional activity: living organisms have some kind of functionality. They perform certain tasks that allow them to survive and thrive in their environment. For example, humans walk, talk, think, work, etc.\n",
      "4) Continual change: life is not static. It's constantly changing and evolving. Organisms adapt to changes in their environment or they become extinct.\n",
      "Now that we know what life means, let's try to answer the question. The meaning of life could be seen as the purpose of all these"
     ]
    },
    {
     "name": "stderr",
     "output_type": "stream",
     "text": [
      "\n",
      "llama_print_timings:        load time =  1867.52 ms\n",
      "llama_print_timings:      sample time =   207.60 ms /   256 runs   (    0.81 ms per token)\n",
      "llama_print_timings: prompt eval time =  5154.87 ms /    23 tokens (  224.12 ms per token)\n",
      "llama_print_timings:        eval time = 184493.41 ms /   255 runs   (  723.50 ms per token)\n",
      "llama_print_timings:       total time = 202809.20 ms\n"
     ]
    },
    {
     "data": {
      "text/plain": [
       "'The first thing we have to do is to understand what \"life\" means. According to the dictionary, life is \"the condition that distinguishes animals and plants from inorganic matter, including the capacity for growth, reproduction, functional activity, and continual change preceding death.\" So, if we want to know the meaning of life, we have to look at its characteristics:\\n1) Growth: living organisms grow throughout their lives. They start small and then become bigger and more complex. This process is called development.\\n2) Reproduction: all living organisms reproduce in order to ensure the continuity of their species. Some do it sexually, others asexually.\\n3) Functional activity: living organisms have some kind of functionality. They perform certain tasks that allow them to survive and thrive in their environment. For example, humans walk, talk, think, work, etc.\\n4) Continual change: life is not static. It\\'s constantly changing and evolving. Organisms adapt to changes in their environment or they become extinct.\\nNow that we know what life means, let\\'s try to answer the question. The meaning of life could be seen as the purpose of all these'"
      ]
     },
     "execution_count": 5,
     "metadata": {},
     "output_type": "execute_result"
    }
   ],
   "source": [
    "question = \"What is the meaning of life?\"\n",
    "\n",
    "llm_chain.run(question=question)"
   ]
  }
 ],
 "metadata": {
  "kernelspec": {
   "display_name": "llama-agent",
   "language": "python",
   "name": "python3"
  },
  "language_info": {
   "codemirror_mode": {
    "name": "ipython",
    "version": 3
   },
   "file_extension": ".py",
   "mimetype": "text/x-python",
   "name": "python",
   "nbconvert_exporter": "python",
   "pygments_lexer": "ipython3",
   "version": "3.10.11"
  },
  "orig_nbformat": 4
 },
 "nbformat": 4,
 "nbformat_minor": 2
}
